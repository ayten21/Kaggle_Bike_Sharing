{
  "nbformat": 4,
  "nbformat_minor": 0,
  "metadata": {
    "colab": {
      "name": "Kaggle_Bike_Sharing.ipynb",
      "provenance": [],
      "collapsed_sections": [],
      "authorship_tag": "ABX9TyPMP6eyNzuZE7YBLjJzoayG",
      "include_colab_link": true
    },
    "kernelspec": {
      "name": "python3",
      "display_name": "Python 3"
    },
    "language_info": {
      "name": "python"
    }
  },
  "cells": [
    {
      "cell_type": "markdown",
      "metadata": {
        "id": "view-in-github",
        "colab_type": "text"
      },
      "source": [
        "<a href=\"https://colab.research.google.com/github/ayten21/Kaggle_Bike_Sharing/blob/main/Kaggle_Bike_Sharing.ipynb\" target=\"_parent\"><img src=\"https://colab.research.google.com/assets/colab-badge.svg\" alt=\"Open In Colab\"/></a>"
      ]
    },
    {
      "cell_type": "code",
      "metadata": {
        "id": "NVLqWycLF_fI"
      },
      "source": [
        "import numpy as np\n",
        "import pandas as pd\n",
        "import matplotlib.pyplot as plt\n",
        "import collections\n",
        "import sklearn\n",
        "from sklearn import linear_model\n",
        "from sklearn import svm\n",
        "from sklearn.model_selection import learning_curve\n",
        "from sklearn import ensemble"
      ],
      "execution_count": 1,
      "outputs": []
    },
    {
      "cell_type": "code",
      "metadata": {
        "id": "Lu9br0e9G0Ng"
      },
      "source": [
        "df = pd.read_csv('train (1).csv')"
      ],
      "execution_count": 2,
      "outputs": []
    },
    {
      "cell_type": "code",
      "metadata": {
        "colab": {
          "base_uri": "https://localhost:8080/",
          "height": 204
        },
        "id": "3a6n9wy-HBQV",
        "outputId": "f016ea9e-2fbc-4cc4-ae7c-436ff6468e7a"
      },
      "source": [
        "df.head()"
      ],
      "execution_count": 4,
      "outputs": [
        {
          "output_type": "execute_result",
          "data": {
            "text/html": [
              "<div>\n",
              "<style scoped>\n",
              "    .dataframe tbody tr th:only-of-type {\n",
              "        vertical-align: middle;\n",
              "    }\n",
              "\n",
              "    .dataframe tbody tr th {\n",
              "        vertical-align: top;\n",
              "    }\n",
              "\n",
              "    .dataframe thead th {\n",
              "        text-align: right;\n",
              "    }\n",
              "</style>\n",
              "<table border=\"1\" class=\"dataframe\">\n",
              "  <thead>\n",
              "    <tr style=\"text-align: right;\">\n",
              "      <th></th>\n",
              "      <th>datetime</th>\n",
              "      <th>season</th>\n",
              "      <th>holiday</th>\n",
              "      <th>workingday</th>\n",
              "      <th>weather</th>\n",
              "      <th>temp</th>\n",
              "      <th>atemp</th>\n",
              "      <th>humidity</th>\n",
              "      <th>windspeed</th>\n",
              "      <th>casual</th>\n",
              "      <th>registered</th>\n",
              "      <th>count</th>\n",
              "    </tr>\n",
              "  </thead>\n",
              "  <tbody>\n",
              "    <tr>\n",
              "      <th>0</th>\n",
              "      <td>2011-01-01 00:00:00</td>\n",
              "      <td>1</td>\n",
              "      <td>0</td>\n",
              "      <td>0</td>\n",
              "      <td>1</td>\n",
              "      <td>9.84</td>\n",
              "      <td>14.395</td>\n",
              "      <td>81</td>\n",
              "      <td>0.0</td>\n",
              "      <td>3</td>\n",
              "      <td>13</td>\n",
              "      <td>16</td>\n",
              "    </tr>\n",
              "    <tr>\n",
              "      <th>1</th>\n",
              "      <td>2011-01-01 01:00:00</td>\n",
              "      <td>1</td>\n",
              "      <td>0</td>\n",
              "      <td>0</td>\n",
              "      <td>1</td>\n",
              "      <td>9.02</td>\n",
              "      <td>13.635</td>\n",
              "      <td>80</td>\n",
              "      <td>0.0</td>\n",
              "      <td>8</td>\n",
              "      <td>32</td>\n",
              "      <td>40</td>\n",
              "    </tr>\n",
              "    <tr>\n",
              "      <th>2</th>\n",
              "      <td>2011-01-01 02:00:00</td>\n",
              "      <td>1</td>\n",
              "      <td>0</td>\n",
              "      <td>0</td>\n",
              "      <td>1</td>\n",
              "      <td>9.02</td>\n",
              "      <td>13.635</td>\n",
              "      <td>80</td>\n",
              "      <td>0.0</td>\n",
              "      <td>5</td>\n",
              "      <td>27</td>\n",
              "      <td>32</td>\n",
              "    </tr>\n",
              "    <tr>\n",
              "      <th>3</th>\n",
              "      <td>2011-01-01 03:00:00</td>\n",
              "      <td>1</td>\n",
              "      <td>0</td>\n",
              "      <td>0</td>\n",
              "      <td>1</td>\n",
              "      <td>9.84</td>\n",
              "      <td>14.395</td>\n",
              "      <td>75</td>\n",
              "      <td>0.0</td>\n",
              "      <td>3</td>\n",
              "      <td>10</td>\n",
              "      <td>13</td>\n",
              "    </tr>\n",
              "    <tr>\n",
              "      <th>4</th>\n",
              "      <td>2011-01-01 04:00:00</td>\n",
              "      <td>1</td>\n",
              "      <td>0</td>\n",
              "      <td>0</td>\n",
              "      <td>1</td>\n",
              "      <td>9.84</td>\n",
              "      <td>14.395</td>\n",
              "      <td>75</td>\n",
              "      <td>0.0</td>\n",
              "      <td>0</td>\n",
              "      <td>1</td>\n",
              "      <td>1</td>\n",
              "    </tr>\n",
              "  </tbody>\n",
              "</table>\n",
              "</div>"
            ],
            "text/plain": [
              "              datetime  season  holiday  ...  casual  registered  count\n",
              "0  2011-01-01 00:00:00       1        0  ...       3          13     16\n",
              "1  2011-01-01 01:00:00       1        0  ...       8          32     40\n",
              "2  2011-01-01 02:00:00       1        0  ...       5          27     32\n",
              "3  2011-01-01 03:00:00       1        0  ...       3          10     13\n",
              "4  2011-01-01 04:00:00       1        0  ...       0           1      1\n",
              "\n",
              "[5 rows x 12 columns]"
            ]
          },
          "metadata": {},
          "execution_count": 4
        }
      ]
    },
    {
      "cell_type": "code",
      "metadata": {
        "id": "ANoY6vMmHOnI"
      },
      "source": [
        "df['date'] = pd.to_datetime(df['datetime'])"
      ],
      "execution_count": 5,
      "outputs": []
    },
    {
      "cell_type": "code",
      "metadata": {
        "id": "VSq-yk7nIiJh"
      },
      "source": [
        "df.set_index('date', inplace = True)"
      ],
      "execution_count": 6,
      "outputs": []
    },
    {
      "cell_type": "code",
      "metadata": {
        "id": "THNU3RD0Iqj6"
      },
      "source": [
        "df['month'] = df.index.month\n",
        "df['hours'] = df.index.hour\n",
        "df['dayOfWeek'] = df.index.weekday\n"
      ],
      "execution_count": 7,
      "outputs": []
    },
    {
      "cell_type": "code",
      "metadata": {
        "id": "BA4dDi9XI8wO"
      },
      "source": [
        "class mean_30():\n",
        "  def __init__(self, df):\n",
        "    self.df = df\n",
        "  def mean_hours_min(self, h):\n",
        "    a = self.df['hours'] == h \n",
        "    return self.df[a]['count'].mean()\n",
        "  def transf(self, t):\n",
        "    return self.mean_hours_min(t)\n",
        "  def transfc(self, t):\n",
        "    return self.err_hours_min(t) \n",
        "  def vector_day(self):\n",
        "    k = []\n",
        "    for i in range (0,24):\n",
        "      k.append(i)\n",
        "    hour_day = pd.DataFrame()\n",
        "    hour_day['A'] = k\n",
        "    return hour_day['A']\n",
        "  def view(self):\n",
        "    plt.plot(self.vector_day().apply(self.transf))"
      ],
      "execution_count": 8,
      "outputs": []
    },
    {
      "cell_type": "code",
      "metadata": {
        "colab": {
          "base_uri": "https://localhost:8080/",
          "height": 308
        },
        "id": "qnbOLdgtKqZk",
        "outputId": "c6a7bb80-540c-4e60-e4f2-37438e171e2d"
      },
      "source": [
        "fig = plt.figure()\n",
        "fig.suptitle('Bike rental depending on the time of day, working days or not', fontsize = 13)\n",
        "plt.ylabel('number of bicycle rentals')\n",
        "plt.xlabel('time of day')\n",
        "moy0 = mean_30(df[df['workingday'] == 0])\n",
        "moy0.view()\n",
        "moy1 = mean_30(df[df['workingday'] == 1])\n",
        "moy1.view()\n",
        "plt.legend(['0','1'])\n",
        "plt.show()"
      ],
      "execution_count": 9,
      "outputs": [
        {
          "output_type": "display_data",
          "data": {
            "image/png": "[encoded data removed]",
            "text/plain": [
              "<Figure size 432x288 with 1 Axes>"
            ]
          },
          "metadata": {
            "needs_background": "light"
          }
        }
      ]
    },
    {
      "cell_type": "code",
      "metadata": {
        "id": "s6Dqj6kNMqHw"
      },
      "source": [
        "j = 0"
      ],
      "execution_count": 10,
      "outputs": []
    },
    {
      "cell_type": "code",
      "metadata": {
        "id": "KXrSLjnDOujZ"
      },
      "source": [
        "class std_30():\n",
        "    def __init__(self, df):\n",
        "        self.df=df\n",
        "    def mean_hours_std(self,j,h):\n",
        "        y = self.df[self.df[\"dayOfWeek\"]==j][\"hours\"] == h\n",
        "        return self.df[self.df[\"dayOfWeek\"]==j][y][\"count\"].mean()\n",
        "    def err_hours(self,j,h):\n",
        "        y = self.df[self.df[\"dayOfWeek\"]==j][\"hours\"] == h\n",
        "        return self.df[self.df[\"dayOfWeek\"]==j][y][\"count\"].std()\n",
        "    def transf_err(self,t):\n",
        "        return self.mean_hours_std(j,t)\n",
        "    def transf_err2(self,t):\n",
        "        return self.err_hours(j,t)\n",
        "    def vector_day(self):\n",
        "        k = []\n",
        "        for i in range(0,24):\n",
        "            k.append(i)\n",
        "        hour_std = pd.DataFrame()\n",
        "        hour_std[\"A\"] = k\n",
        "        return hour_std[\"A\"] \n",
        "    def view(self):\n",
        "        errors=self.vector_day().apply(self.transf_err2)\n",
        "        fig, ax = plt.subplots()\n",
        "        self.vector_day().apply(self.transf_err).plot(yerr=errors, ax=ax,label=str(j))\n",
        "        plt.legend('0',loc=2,prop={'size':9})"
      ],
      "execution_count": 11,
      "outputs": []
    },
    {
      "cell_type": "code",
      "metadata": {
        "colab": {
          "base_uri": "https://localhost:8080/",
          "height": 279
        },
        "id": "buHW7zslO5dh",
        "outputId": "22bfbf7a-2a83-4010-9771-1d480a487290"
      },
      "source": [
        "fig.suptitle('Standard deviation of bike rentals according to the hour', fontsize=13)\n",
        "std0=std_30(df)\n",
        "std0.view()\n",
        "plt.ylabel('number of bicycle rentals')\n",
        "plt.xlabel('time of day')\n",
        "plt.show()"
      ],
      "execution_count": 12,
      "outputs": [
        {
          "output_type": "display_data",
          "data": {
            "image/png": "[encoded data removed]",
            "text/plain": [
              "<Figure size 432x288 with 1 Axes>"
            ]
          },
          "metadata": {
            "needs_background": "light"
          }
        }
      ]
    },
    {
      "cell_type": "code",
      "metadata": {
        "id": "EZCV2PNpPQmr"
      },
      "source": [
        "class month_30():\n",
        "    def __init__(self, df):\n",
        "        self.df=df\n",
        "    def mean_hours_min(self,m):\n",
        "        a = self.df[\"month\"] == m\n",
        "        return self.df[a][\"count\"].mean() \n",
        "    def transf(self, t):\n",
        "        return self.mean_hours_min(t)\n",
        "    def transfc(self, t):\n",
        "        return self.err_hours_min(t)\n",
        "    def vector_day(self):\n",
        "        k = []\n",
        "        for i in range(0,13):\n",
        "            k.append(i)\n",
        "        hour_day = pd.DataFrame()\n",
        "        hour_day[\"A\"] = k\n",
        "        return hour_day[\"A\"] \n",
        "    def view(self):\n",
        "        plt.plot(self.vector_day().apply(self.transf))"
      ],
      "execution_count": 13,
      "outputs": []
    },
    {
      "cell_type": "code",
      "metadata": {
        "colab": {
          "base_uri": "https://localhost:8080/",
          "height": 342
        },
        "id": "Yxs5iloKQOE_",
        "outputId": "c3bfaa8f-eb48-465a-9b2d-9edf7ab8c1e4"
      },
      "source": [
        "fig=plt.figure()\n",
        "fig.suptitle('Bike rental depending on the month', fontsize=13)\n",
        "moy0=month_30(df)\n",
        "moy0.view()\n",
        "plt.ylabel('number of bicycle rentals')\n",
        "plt.xlabel('months of the year')\n",
        "plt.show()\n",
        "plt.figure()"
      ],
      "execution_count": 14,
      "outputs": [
        {
          "output_type": "display_data",
          "data": {
            "image/png": "[encoded data removed]",
            "text/plain": [
              "<Figure size 432x288 with 1 Axes>"
            ]
          },
          "metadata": {
            "needs_background": "light"
          }
        },
        {
          "output_type": "execute_result",
          "data": {
            "text/plain": [
              "<Figure size 432x288 with 0 Axes>"
            ]
          },
          "metadata": {},
          "execution_count": 14
        },
        {
          "output_type": "display_data",
          "data": {
            "text/plain": [
              "<Figure size 432x288 with 0 Axes>"
            ]
          },
          "metadata": {}
        }
      ]
    },
    {
      "cell_type": "code",
      "metadata": {
        "id": "bIz3Ca-4Qxe1"
      },
      "source": [
        "D = {u'V>13k/h':df[df['windspeed']>13]['count'].mean(), \n",
        "     u'V<13k/h': df[df['windspeed']<13]['count'].mean(), \n",
        "     u'T<24°C':df[df['atemp']<24]['count'].mean(), \n",
        "     u'T>24°C':df[df['atemp']>24]['count'].mean(), \n",
        "     u'H>62%': df[df['humidity']>62]['count'].mean(), \n",
        "     u'H<62%':df[df['humidity']<62]['count'].mean()\n",
        "    }"
      ],
      "execution_count": 15,
      "outputs": []
    },
    {
      "cell_type": "code",
      "metadata": {
        "colab": {
          "base_uri": "https://localhost:8080/",
          "height": 281
        },
        "id": "IJs1RGaETEro",
        "outputId": "e13a5a2a-249f-4183-ede8-170b632520f2"
      },
      "source": [
        "od = collections.OrderedDict(sorted(D.items()))\n",
        "width = 1/1.6\n",
        "plt.figure()\n",
        "plt.bar(range(len(od)), od.values(),width,color=\"blue\",align='center')\n",
        "plt.xticks(range(len(od)), od.keys())\n",
        "plt.title('Variation in demand as a function of 3 variables')\n",
        "plt.show()"
      ],
      "execution_count": 16,
      "outputs": [
        {
          "output_type": "display_data",
          "data": {
            "image/png": "[encoded data removed]",
            "text/plain": [
              "<Figure size 432x288 with 1 Axes>"
            ]
          },
          "metadata": {
            "needs_background": "light"
          }
        }
      ]
    },
    {
      "cell_type": "code",
      "metadata": {
        "colab": {
          "base_uri": "https://localhost:8080/",
          "height": 258
        },
        "id": "HIJEo6H6TXkh",
        "outputId": "f9c4448a-77d4-4faa-dc6d-7a3b5f8b982d"
      },
      "source": [
        "df.corr()\n",
        "plt.matshow(df.corr())\n",
        "plt.yticks(range(len(df.corr().columns)), df.corr().columns); \n",
        "plt.colorbar()\n",
        "plt.show()"
      ],
      "execution_count": 17,
      "outputs": [
        {
          "output_type": "display_data",
          "data": {
            "image/png": "[encoded data removed]",
            "text/plain": [
              "<Figure size 288x288 with 2 Axes>"
            ]
          },
          "metadata": {
            "needs_background": "light"
          }
        }
      ]
    },
    {
      "cell_type": "code",
      "metadata": {
        "id": "xSj8VyTwUaRL"
      },
      "source": [
        "df1=df.drop(['workingday','datetime','season','atemp','holiday','registered','casual'],axis=1)\n",
        "target=df1['count'].values\n",
        "train=df1.drop('count',axis=1)"
      ],
      "execution_count": 18,
      "outputs": []
    },
    {
      "cell_type": "code",
      "metadata": {
        "id": "5HtnA57yU1iV"
      },
      "source": [
        "from sklearn.model_selection import train_test_split\n",
        "X_train, X_test, Y_train, Y_test = train_test_split(train, target, test_size=0.33, random_state=42)"
      ],
      "execution_count": 19,
      "outputs": []
    },
    {
      "cell_type": "code",
      "metadata": {
        "id": "04PXuMF6VHT6"
      },
      "source": [
        "def plot_learning_curve(estimator, title, X, y, cv=None, n_jobs=1, train_sizes=np.linspace(.1, 1.0, 5)):\n",
        "    plt.figure()\n",
        "    plt.title(title)\n",
        "    plt.xlabel(\"Training examples\")\n",
        "    plt.ylabel(\"Score\")\n",
        "    train_sizes, train_scores, test_scores = learning_curve(\n",
        "        estimator, X, y, cv=cv, n_jobs=n_jobs, train_sizes=train_sizes)\n",
        "    train_scores_mean = np.mean(train_scores, axis=1)\n",
        "    train_scores_std = np.std(train_scores, axis=1)\n",
        "    test_scores_mean = np.mean(test_scores, axis=1)\n",
        "    test_scores_std = np.std(test_scores, axis=1)\n",
        "    plt.grid()\n",
        "    plt.plot(train_sizes, train_scores_mean, 'o-', color=\"r\", label=\"Training score\")\n",
        "    plt.plot(train_sizes, test_scores_mean, 'o-', color=\"g\", label=\"Cross-validation score\")\n",
        "    plt.legend(loc=\"best\")\n",
        "    return plt"
      ],
      "execution_count": 20,
      "outputs": []
    },
    {
      "cell_type": "code",
      "metadata": {
        "id": "fALnj4OJVUrE"
      },
      "source": [
        "linreg=linear_model.LinearRegression()\n",
        "linreg.fit(X_train,Y_train)\n",
        "tableau=[['Paramètre', 'Coefficient']] \n",
        "col=list(train.columns.values)\n",
        "for i in range(7):\n",
        "    tableau.append([col[i],linreg.coef_[i]])"
      ],
      "execution_count": 21,
      "outputs": []
    },
    {
      "cell_type": "code",
      "metadata": {
        "colab": {
          "base_uri": "https://localhost:8080/"
        },
        "id": "fWcuMOH1Voch",
        "outputId": "c112049a-3354-4624-b3ae-7fe43f9a4e3f"
      },
      "source": [
        "print (\"Training Score Regression Linéare : \", str(linreg.score(X_train,Y_train)))\n",
        "print (\"Test Score Regression Linéare : \" , str(linreg.score(X_test,Y_test)))\n",
        "print (\"Coefficients Regression Linéare :\")\n",
        "print (tableau)"
      ],
      "execution_count": 22,
      "outputs": [
        {
          "output_type": "stream",
          "name": "stdout",
          "text": [
            "Training Score Regression Linéare :  0.33714622910676395\n",
            "Test Score Regression Linéare :  0.33352764224301534\n",
            "Coefficients Regression Linéare :\n",
            "[['Paramètre', 'Coefficient'], ['weather', -0.7690205222965788], ['temp', 6.757640439864008], ['humidity', -2.28180150175948], ['windspeed', 0.08976529088764573], ['month', 8.093135974422186], ['hours', 7.778992607675706], ['dayOfWeek', -0.17464994747914064]]\n"
          ]
        }
      ]
    },
    {
      "cell_type": "code",
      "metadata": {
        "colab": {
          "base_uri": "https://localhost:8080/"
        },
        "id": "sQKpBl9FVvCx",
        "outputId": "bd3590cd-a81a-4dae-b842-ede88e392d81"
      },
      "source": [
        "gbr = ensemble.GradientBoostingRegressor(n_estimators=2000)\n",
        "gbr.fit(X_train,Y_train)\n",
        "print (\"Training Score GradientBoosting: \", str(gbr.score(X_train,Y_train)))\n",
        "print (\"Test Score GradientBoosting: \" , str(gbr.score(X_test,Y_test)))"
      ],
      "execution_count": 23,
      "outputs": [
        {
          "output_type": "stream",
          "name": "stdout",
          "text": [
            "Training Score GradientBoosting:  0.9127458259025475\n",
            "Test Score GradientBoosting:  0.8563663955168377\n"
          ]
        }
      ]
    },
    {
      "cell_type": "code",
      "metadata": {
        "colab": {
          "base_uri": "https://localhost:8080/",
          "height": 295
        },
        "id": "enlpvwbtV04s",
        "outputId": "79cf9804-b606-48c8-8be2-914927b1bfa1"
      },
      "source": [
        "title = \"Learning Curves (GradientBoosting)\"\n",
        "estimator = ensemble.GradientBoostingRegressor(n_estimators=2000)\n",
        "plot_learning_curve(estimator, title, X_train, Y_train)\n",
        "plt.show()"
      ],
      "execution_count": 24,
      "outputs": [
        {
          "output_type": "display_data",
          "data": {
            "image/png": "[encoded data removed]",
            "text/plain": [
              "<Figure size 432x288 with 1 Axes>"
            ]
          },
          "metadata": {
            "needs_background": "light"
          }
        }
      ]
    },
    {
      "cell_type": "code",
      "metadata": {
        "colab": {
          "base_uri": "https://localhost:8080/"
        },
        "id": "CBUer9f4WGYE",
        "outputId": "87a32e90-1ae0-4cae-d3eb-c92abade914a"
      },
      "source": [
        "svr=svm.SVR(kernel='linear')\n",
        "svr.fit(X_train,Y_train)\n",
        "print (\"Training Score SVR: \", str(svr.score(X_train,Y_train)))\n",
        "print (\"Test Score SVR : \" , str(svr.score(X_test,Y_test)))"
      ],
      "execution_count": 26,
      "outputs": [
        {
          "output_type": "stream",
          "name": "stdout",
          "text": [
            "Training Score SVR:  0.29161019866765087\n",
            "Test Score SVR :  0.2921859792559355\n"
          ]
        }
      ]
    },
    {
      "cell_type": "code",
      "metadata": {
        "colab": {
          "base_uri": "https://localhost:8080/"
        },
        "id": "40kyQuHYWYTo",
        "outputId": "3396a7ac-7e36-4c2d-e2ba-844d754379de"
      },
      "source": [
        "rf=ensemble.RandomForestRegressor(n_estimators=30,oob_score=True)\n",
        "rf.fit(train,target)\n",
        "print (\"Training Score RandomForest: \", str(rf.score(train,target)))\n",
        "print (\"OOB Score RandomForest: \" , str(rf.oob_score_))"
      ],
      "execution_count": 27,
      "outputs": [
        {
          "output_type": "stream",
          "name": "stdout",
          "text": [
            "Training Score RandomForest:  0.9785165750022082\n",
            "OOB Score RandomForest:  0.8503485296829276\n"
          ]
        }
      ]
    },
    {
      "cell_type": "code",
      "metadata": {
        "id": "H5FPdBAFWmqm"
      },
      "source": [
        "def param_import():\n",
        "    col=list(train.columns.values)\n",
        "    index1=linreg.coef_.argsort()[-2:][-1]\n",
        "    index2=linreg.coef_.argsort()[-2:][0]\n",
        "    print(\"For the improvements, let's calculate the most influential parameters : \")\n",
        "    print('...')\n",
        "    print('For linear regression, the most influential parameters are :', col[index1],' and ',col[index2])\n",
        "    index3=rf.feature_importances_.argsort()[-2:][-1] \n",
        "    index4=rf.feature_importances_.argsort()[-2:][0] \n",
        "    print('For the RF algorithm, the most influential parameters are :', col[index3],' and ',col[index4])\n",
        "    index5=gbr.feature_importances_.argsort()[-2:][-1]\n",
        "    index6=gbr.feature_importances_.argsort()[-2:][0]\n",
        "    print('For the Gradient Boosting algorithm, the most influential parameters are :', col[index5],' and ',col[index6])\n",
        "    if index3==index5:\n",
        "        plus_import=index3\n",
        "    elif index5==index4:\n",
        "        plus_import=index4\n",
        "    return plus_import"
      ],
      "execution_count": 29,
      "outputs": []
    },
    {
      "cell_type": "code",
      "metadata": {
        "colab": {
          "base_uri": "https://localhost:8080/"
        },
        "id": "xeZF5Gx3ZFHU",
        "outputId": "1659b96c-4566-4668-c42d-10fb55ab623f"
      },
      "source": [
        "print('The most important parameter is therefore : ', col[param_import()])"
      ],
      "execution_count": 30,
      "outputs": [
        {
          "output_type": "stream",
          "name": "stdout",
          "text": [
            "For the improvements, let's calculate the most influential parameters : \n",
            "...\n",
            "For linear regression, the most influential parameters are : month  and  hours\n",
            "For the RF algorithm, the most influential parameters are : hours  and  temp\n",
            "For the Gradient Boosting algorithm, the most influential parameters are : hours  and  temp\n",
            "The most important parameter is therefore :  hours\n"
          ]
        }
      ]
    },
    {
      "cell_type": "code",
      "metadata": {
        "id": "NCVsM2t9ZZxv"
      },
      "source": [
        "soir = df[df['hours'].isin([17,18,19])]\n",
        "peak_soir=soir[soir['workingday']==1]\n",
        "matin = df[df['hours'].isin([7,8,9])]\n",
        "peak_matin=matin[matin['workingday']==1]\n",
        "we = df[df['hours'].isin([12,13,14,15,16])]\n",
        "peak_we=we[we['workingday']==0]"
      ],
      "execution_count": 31,
      "outputs": []
    },
    {
      "cell_type": "code",
      "metadata": {
        "colab": {
          "base_uri": "https://localhost:8080/"
        },
        "id": "KKvFaIYTZgf6",
        "outputId": "bc4659c5-8c85-48e9-b95c-7ab0544eabc0"
      },
      "source": [
        "print('Then calculate the average number of bikes for several time slots : ')\n",
        "print('...')\n",
        "print('The total demand average is : ', df['count'].mean())\n",
        "print('Weekdays, between 5 p.m. and 7 p.m. : ', peak_soir['count'].mean())\n",
        "print('During the week, between 7 and 9 a.m. : ', peak_matin['count'].mean())\n",
        "print('Weekends, between 12 p.m. and 4 p.m. : ', peak_we['count'].mean())"
      ],
      "execution_count": 32,
      "outputs": [
        {
          "output_type": "stream",
          "name": "stdout",
          "text": [
            "Then calculate the average number of bikes for several time slots : \n",
            "...\n",
            "The total demand average is :  191.57413191254824\n",
            "Weekdays, between 5 p.m. and 7 p.m. :  457.9924973204716\n",
            "During the week, between 7 and 9 a.m. :  337.64301075268816\n",
            "Weekends, between 12 p.m. and 4 p.m. :  377.40275862068967\n"
          ]
        }
      ]
    },
    {
      "cell_type": "code",
      "metadata": {
        "id": "6iYpqBr-Z4xw"
      },
      "source": [
        ""
      ],
      "execution_count": null,
      "outputs": []
    }
  ]
}